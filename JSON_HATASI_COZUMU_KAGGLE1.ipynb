{
 "cells": [
  {
   "cell_type": "markdown",
   "metadata": {},
   "source": [
    "### LightGBMError: Do not support special JSON characters in feature name. "
   ]
  },
  {
   "cell_type": "markdown",
   "metadata": {},
   "source": [
    "LightGBMError: Do not support special JSON characters in feature name.    \n",
    "Quick solution:\n",
    "Before submitting you dataframe to lgbm, just replace all non-alphanumeric characters in the column names:"
   ]
  },
  {
   "cell_type": "markdown",
   "metadata": {},
   "source": [
    "Eger kaggle de LightGBM de JSON characters hatasi aliyorsaniz yapmanz gereken cok basit.\n",
    "Model kurarken ilk olarak karakter duzeltmesi yapmaniz gerekir.\n",
    "Bunun icin tum combine islemleri vb. islemler bittikten sonra Model kurmaya baslarken, fonksiyona ilk komut olarak asagidaki kodu yazmaniz yeterli \n",
    "Daha sonra test ve train diye bolun. ;-)"
   ]
  },
  {
   "cell_type": "code",
   "execution_count": null,
   "metadata": {},
   "outputs": [],
   "source": [
    "all_data.columns = [\"\".join (c if c.isalnum() else \"_\" for c in str(x)) for x in all_data.columns]"
   ]
  },
  {
   "cell_type": "code",
   "execution_count": null,
   "metadata": {},
   "outputs": [],
   "source": [
    "Ornek:"
   ]
  },
  {
   "cell_type": "code",
   "execution_count": null,
   "metadata": {},
   "outputs": [],
   "source": [
    "def modeling(all_data):\n",
    "    all_data.columns = [\"\".join (c if c.isalnum() else \"_\" for c in str(x)) for x in all_data.columns]\n",
    "    train_df = all_data[all_data['TARGET'].notnull()]\n",
    "    test_df = all_data[all_data['TARGET'].isnull()]\n",
    "    .....\n",
    "    ....."
   ]
  }
 ],
 "metadata": {
  "kernelspec": {
   "display_name": "Python 3",
   "language": "python",
   "name": "python3"
  },
  "language_info": {
   "codemirror_mode": {
    "name": "ipython",
    "version": 3
   },
   "file_extension": ".py",
   "mimetype": "text/x-python",
   "name": "python",
   "nbconvert_exporter": "python",
   "pygments_lexer": "ipython3",
   "version": "3.7.7"
  }
 },
 "nbformat": 4,
 "nbformat_minor": 4
}
